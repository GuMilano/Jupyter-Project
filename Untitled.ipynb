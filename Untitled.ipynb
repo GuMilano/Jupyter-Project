{
 "cells": [
  {
   "cell_type": "markdown",
   "id": "1fe909bf-e820-48cd-b461-85784a6abe58",
   "metadata": {},
   "source": [
    "# 2 - Crie uma célula markdown com o título do notebook.\n",
    "Jupyter Notebook\n"
   ]
  },
  {
   "cell_type": "markdown",
   "id": "f40dc01c-6921-478e-985c-38640b9f1058",
   "metadata": {},
   "source": [
    "# 3 - Crie uma célula markdown para uma introdução.\n",
    "Este é um notebook de exemplo que demonstra algumas ações comuns em ciência de dados usando R."
   ]
  },
  {
   "cell_type": "markdown",
   "id": "2eea72d3-784f-4248-8708-d6a774c92bdd",
   "metadata": {},
   "source": [
    "# 4 - Crie uma célula markdown para listar as linguagens de ciência de dados.\n",
    " - R\n",
    " - Python\n",
    " - Julia\n",
    " - SQL"
   ]
  },
  {
   "cell_type": "markdown",
   "id": "9b93e9f6-29ff-46d7-ba1f-7649a090b203",
   "metadata": {},
   "source": [
    "# 5 - Crie uma célula markdown para listar bibliotecas de ciência de dados.\n",
    "------------------------------\n",
    "Algumas bibliotecas populares em R:\n",
    " - ggplot2\n",
    " - dplyr\n",
    " - tidyr\n",
    " - caret"
   ]
  },
  {
   "cell_type": "markdown",
   "id": "e3b1688d-00ed-4779-9849-a0e89abd9284",
   "metadata": {},
   "source": [
    "# 6 - Crie uma célula markdown com uma tabela de ferramentas de ciência de dados.\n",
    "|-----------------------------------------------------------|\n",
    "| Ferramenta       | Descrição                              |\n",
    "|------------------|----------------------------------------|\n",
    "| R                | Linguagem de programação               |\n",
    "| Python           | Linguagem de programação               |\n",
    "| RStudio          | Ambiente de desenvolvimento R          |\n",
    "| Jupyter Notebook | Ambiente de desenvolvimento Python     |\n",
    "| SQL              | Linguagem de consulta de banco de dados|"
   ]
  },
  {
   "cell_type": "markdown",
   "id": "854d1908-366c-46e0-ad71-e927213777e1",
   "metadata": {},
   "source": [
    "# 7 - Crie uma célula markdown apresentando exemplos de expressões aritméticas.\n",
    "Aqui estão alguns exemplos de expressões aritméticas em R:\n",
    " - Soma: 2 + 3\n",
    " - Subtração: 5 - 2\n",
    " - Multiplicação: 4 * 6\n",
    " - Divisão: 8 / 2"
   ]
  },
  {
   "cell_type": "code",
   "execution_count": 20,
   "id": "4cc1aca4-9406-4000-a657-73347653f0e6",
   "metadata": {},
   "outputs": [
    {
     "name": "stdout",
     "output_type": "stream",
     "text": [
      "11\n",
      "30\n"
     ]
    }
   ],
   "source": [
    "# 8 - Crie uma célula de código para multiplicar e adicionar números.\n",
    "x = 5\n",
    "y = 6\n",
    "z = x + y\n",
    "a = x * y\n",
    "\n",
    "print(z)\n",
    "print(a)"
   ]
  },
  {
   "cell_type": "code",
   "execution_count": 22,
   "id": "cac6e25d-f513-49f4-8d37-a386071f3899",
   "metadata": {},
   "outputs": [
    {
     "name": "stdout",
     "output_type": "stream",
     "text": [
      "2.0\n"
     ]
    }
   ],
   "source": [
    "#9 - Crie uma célula de código para converter minutos em horas.\n",
    "minutos = 120\n",
    "horas = 60 \n",
    "minutos_horas = minutos / horas\n",
    "print(minutos_horas)"
   ]
  },
  {
   "cell_type": "markdown",
   "id": "f9763125-0ae2-42c6-911c-8a7e1c66b7c3",
   "metadata": {},
   "source": [
    "# 10 - Insira uma célula markdown para listar Objetivos. \n",
    "Neste notebook, pretendemos:\n",
    "- Explorar conceitos de ciência de dados em R.\n",
    "- Demonstrar operações aritméticas básicas.\n",
    "- Realizar conversões de unidades de tempo."
   ]
  },
  {
   "cell_type": "markdown",
   "id": "6fbae5fb-c37d-48ae-8b4d-6183f99b3926",
   "metadata": {},
   "source": [
    "# 11 - Crie uma célula de markdown para indicar o nome do autor.\n",
    "Gustavo Milano Silva"
   ]
  },
  {
   "cell_type": "code",
   "execution_count": null,
   "id": "5c5fa25a-c995-4534-bd3f-e2b8be9cfff9",
   "metadata": {},
   "outputs": [],
   "source": []
  }
 ],
 "metadata": {
  "kernelspec": {
   "display_name": "Python 3 (ipykernel)",
   "language": "python",
   "name": "python3"
  },
  "language_info": {
   "codemirror_mode": {
    "name": "ipython",
    "version": 3
   },
   "file_extension": ".py",
   "mimetype": "text/x-python",
   "name": "python",
   "nbconvert_exporter": "python",
   "pygments_lexer": "ipython3",
   "version": "3.11.6"
  }
 },
 "nbformat": 4,
 "nbformat_minor": 5
}
